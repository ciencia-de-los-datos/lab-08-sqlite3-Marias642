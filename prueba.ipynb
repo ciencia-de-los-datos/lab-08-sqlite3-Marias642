{
 "cells": [
  {
   "cell_type": "code",
   "execution_count": 2,
   "metadata": {},
   "outputs": [],
   "source": [
    "import pandas as pd\n",
    "import sqlite3\n"
   ]
  },
  {
   "cell_type": "code",
   "execution_count": 3,
   "metadata": {},
   "outputs": [],
   "source": [
    "def ejecutar_query(conexion, query):\n",
    "    cursor = conexion.cursor()\n",
    "    cursor.execute(query)\n",
    "    data = cursor.fetchall()\n",
    "\n",
    "    cols = [val[0] for val in cursor.description]\n",
    "    return pd.DataFrame(data, columns=cols).to_dict()\n"
   ]
  },
  {
   "cell_type": "code",
   "execution_count": 4,
   "metadata": {},
   "outputs": [],
   "source": [
    "conexion = sqlite3.connect(\":memory:\")\n",
    "cursor = conexion.cursor()\n",
    "with open(\"create_tables.sql\") as f:\n",
    "    cursor.executescript(f.read())"
   ]
  },
  {
   "cell_type": "code",
   "execution_count": 33,
   "metadata": {},
   "outputs": [
    {
     "data": {
      "text/plain": [
       "{'K0': {0: 'A', 1: 'B', 2: 'C', 3: 'D', 4: 'E'},\n",
       " 'avg(c12)': {0: 476.155,\n",
       "  1: 536.5233333333333,\n",
       "  2: 490.8299999999999,\n",
       "  3: 709.53,\n",
       "  4: 474.82500000000005}}"
      ]
     },
     "execution_count": 33,
     "metadata": {},
     "output_type": "execute_result"
    }
   ],
   "source": [
    "query = \"\"\"\n",
    "SELECT K0, avg(c12) FROM tbl1 WHERE c13 > 400 GROUP BY K0;\n",
    "\"\"\"\n",
    "ejecutar_query(conexion, query)\n"
   ]
  },
  {
   "cell_type": "code",
   "execution_count": 34,
   "metadata": {},
   "outputs": [
    {
     "data": {
      "text/plain": [
       "True"
      ]
     },
     "execution_count": 34,
     "metadata": {},
     "output_type": "execute_result"
    }
   ],
   "source": [
    "respuesta = {\n",
    "        \"K0\": {0: \"A\", 1: \"B\", 2: \"C\", 3: \"D\", 4: \"E\"},\n",
    "        \"avg(c12)\": {\n",
    "            0: 476.155,\n",
    "            1: 536.5233333333333,\n",
    "            2: 490.8299999999999,\n",
    "            3: 709.53,\n",
    "            4: 474.82500000000005,\n",
    "        },\n",
    "    }\n",
    "ejecutar_query(conexion, query)==respuesta\n"
   ]
  },
  {
   "cell_type": "code",
   "execution_count": null,
   "metadata": {},
   "outputs": [],
   "source": [
    "{\"strftime('%Y',c23)\": {0: '2016', 1: '2017', 2: '2018', 3: '2019'},\n",
    " 'avg(c21)': {0: 564.4764285714285,\n",
    "  1: 515.1563636363637,\n",
    "  2: 557.5593749999999,\n",
    "  3: 550.9985714285714}}\n",
    "\n",
    "{\n",
    "        \"strftime('%Y', c23)\": {0: \"2016\", 1: \"2017\", 2: \"2018\", 3: \"2019\"},\n",
    "        \"avg(c21)\": {\n",
    "            0: 564.4764285714285,\n",
    "            1: 515.1563636363637,\n",
    "            2: 557.5593749999999,\n",
    "            3: 550.9985714285714,\n",
    "        }\n",
    "    }"
   ]
  }
 ],
 "metadata": {
  "kernelspec": {
   "display_name": ".venv",
   "language": "python",
   "name": "python3"
  },
  "language_info": {
   "codemirror_mode": {
    "name": "ipython",
    "version": 3
   },
   "file_extension": ".py",
   "mimetype": "text/x-python",
   "name": "python",
   "nbconvert_exporter": "python",
   "pygments_lexer": "ipython3",
   "version": "3.10.11"
  }
 },
 "nbformat": 4,
 "nbformat_minor": 2
}
